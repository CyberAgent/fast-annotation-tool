{
 "cells": [
  {
   "cell_type": "markdown",
   "id": "df7d9e1a",
   "metadata": {},
   "source": [
    "# TOC\n",
    "1. [Settings](#Settings)\n",
    "2. [Get the task list](#Get-the-task-list)\n",
    "3. [Upload annotations](#Upload-annotations)\n",
    "4. [Get annotation results](#Get-annotation-results)\n",
    "5. [Get annotation detail log](#Get-annotation-detail-log)"
   ]
  },
  {
   "cell_type": "markdown",
   "id": "b0d5d292",
   "metadata": {},
   "source": [
    "# Settings"
   ]
  },
  {
   "cell_type": "code",
   "execution_count": 27,
   "id": "e0a1eb80",
   "metadata": {},
   "outputs": [],
   "source": [
    "import init\n",
    "import pandas as pd\n",
    "import json\n",
    "import requests"
   ]
  },
  {
   "cell_type": "code",
   "execution_count": 28,
   "id": "f9c49437",
   "metadata": {},
   "outputs": [],
   "source": [
    "host = 'http://api:5000'\n",
    "headers = {}"
   ]
  },
  {
   "cell_type": "code",
   "execution_count": 14,
   "id": "0098c982",
   "metadata": {},
   "outputs": [],
   "source": [
    "# Cloud Run API needs Authorization\n",
    "host = 'https://******.a.run.app'\n",
    "headers = {\n",
    "    'Authorization': 'Bearer <TOKEN>'\n",
    "}"
   ]
  },
  {
   "cell_type": "markdown",
   "id": "34dd844c",
   "metadata": {},
   "source": [
    "# Get the task list"
   ]
  },
  {
   "cell_type": "code",
   "execution_count": 29,
   "id": "a811373b",
   "metadata": {},
   "outputs": [
    {
     "data": {
      "text/html": [
       "<div>\n",
       "<style scoped>\n",
       "    .dataframe tbody tr th:only-of-type {\n",
       "        vertical-align: middle;\n",
       "    }\n",
       "\n",
       "    .dataframe tbody tr th {\n",
       "        vertical-align: top;\n",
       "    }\n",
       "\n",
       "    .dataframe thead th {\n",
       "        text-align: right;\n",
       "    }\n",
       "</style>\n",
       "<table border=\"1\" class=\"dataframe\">\n",
       "  <thead>\n",
       "    <tr style=\"text-align: right;\">\n",
       "      <th></th>\n",
       "      <th>description</th>\n",
       "      <th>annotation_type</th>\n",
       "      <th>title</th>\n",
       "      <th>id</th>\n",
       "      <th>created_at</th>\n",
       "      <th>question</th>\n",
       "      <th>updated_at</th>\n",
       "    </tr>\n",
       "  </thead>\n",
       "  <tbody>\n",
       "    <tr>\n",
       "      <th>0</th>\n",
       "      <td>This is a card demo, so feel free to annotate it as you wish.</td>\n",
       "      <td>card</td>\n",
       "      <td>Card Demo</td>\n",
       "      <td>card-demo-20200602</td>\n",
       "      <td>2021-06-01T13:52:45.882546+00:00</td>\n",
       "      <td>This is card demo</td>\n",
       "      <td>2021-06-01T13:52:45.882564+00:00</td>\n",
       "    </tr>\n",
       "    <tr>\n",
       "      <th>1</th>\n",
       "      <td>This is a card demo, so feel free to annotate it as you wish.</td>\n",
       "      <td>card</td>\n",
       "      <td>Card Demo</td>\n",
       "      <td>card-demo-20200603</td>\n",
       "      <td>2021-06-02T04:48:38.511052+00:00</td>\n",
       "      <td>This is card demo</td>\n",
       "      <td>2021-06-02T04:48:38.511062+00:00</td>\n",
       "    </tr>\n",
       "  </tbody>\n",
       "</table>\n",
       "</div>"
      ],
      "text/plain": [
       "                                                     description  \\\n",
       "0  This is a card demo, so feel free to annotate it as you wish.   \n",
       "1  This is a card demo, so feel free to annotate it as you wish.   \n",
       "\n",
       "  annotation_type      title                  id  \\\n",
       "0            card  Card Demo  card-demo-20200602   \n",
       "1            card  Card Demo  card-demo-20200603   \n",
       "\n",
       "                         created_at           question  \\\n",
       "0  2021-06-01T13:52:45.882546+00:00  This is card demo   \n",
       "1  2021-06-02T04:48:38.511052+00:00  This is card demo   \n",
       "\n",
       "                         updated_at  \n",
       "0  2021-06-01T13:52:45.882564+00:00  \n",
       "1  2021-06-02T04:48:38.511062+00:00  "
      ]
     },
     "execution_count": 29,
     "metadata": {},
     "output_type": "execute_result"
    }
   ],
   "source": [
    "res = requests.get(f'{host}/tasks', headers=headers).json()\n",
    "pd.DataFrame(res)[:3]"
   ]
  },
  {
   "cell_type": "markdown",
   "id": "65bcef92",
   "metadata": {},
   "source": [
    "# Upload annotations"
   ]
  },
  {
   "cell_type": "markdown",
   "id": "775d50e6",
   "metadata": {},
   "source": [
    "## Card UI\n",
    "\n",
    "- [Task-dependent schema#card](https://github.com/CyberAgent/fast-annotation-tool/wiki/%E3%82%BF%E3%82%B9%E3%82%AF%E4%BE%9D%E5%AD%98%E3%81%AE%E3%82%B9%E3%82%AD%E3%83%BC%E3%83%9E#card)\n",
    "\n",
    "<img src=\"https://user-images.githubusercontent.com/17490886/121502506-33633700-ca1b-11eb-9bf2-012b58aee50a.png\" alt=\"image\" />"
   ]
  },
  {
   "cell_type": "code",
   "execution_count": 38,
   "id": "cbf9d7d7",
   "metadata": {},
   "outputs": [
    {
     "data": {
      "text/html": [
       "<div>\n",
       "<style scoped>\n",
       "    .dataframe tbody tr th:only-of-type {\n",
       "        vertical-align: middle;\n",
       "    }\n",
       "\n",
       "    .dataframe tbody tr th {\n",
       "        vertical-align: top;\n",
       "    }\n",
       "\n",
       "    .dataframe thead th {\n",
       "        text-align: right;\n",
       "    }\n",
       "</style>\n",
       "<table border=\"1\" class=\"dataframe\">\n",
       "  <thead>\n",
       "    <tr style=\"text-align: right;\">\n",
       "      <th></th>\n",
       "      <th>text</th>\n",
       "      <th>show_ambiguous_button</th>\n",
       "      <th>hidden_data</th>\n",
       "    </tr>\n",
       "  </thead>\n",
       "  <tbody>\n",
       "    <tr>\n",
       "      <th>0</th>\n",
       "      <td>This is a test0.</td>\n",
       "      <td>True</td>\n",
       "      <td>{'desc': 'Data for aggregation. It can be a dictionary or a string.'}</td>\n",
       "    </tr>\n",
       "    <tr>\n",
       "      <th>1</th>\n",
       "      <td>This is a test1.</td>\n",
       "      <td>True</td>\n",
       "      <td>{'desc': 'Data for aggregation. It can be a dictionary or a string.'}</td>\n",
       "    </tr>\n",
       "    <tr>\n",
       "      <th>2</th>\n",
       "      <td>This is a test2.</td>\n",
       "      <td>True</td>\n",
       "      <td>{'desc': 'Data for aggregation. It can be a dictionary or a string.'}</td>\n",
       "    </tr>\n",
       "  </tbody>\n",
       "</table>\n",
       "</div>"
      ],
      "text/plain": [
       "               text  show_ambiguous_button  \\\n",
       "0  This is a test0.                   True   \n",
       "1  This is a test1.                   True   \n",
       "2  This is a test2.                   True   \n",
       "\n",
       "                                                             hidden_data  \n",
       "0  {'desc': 'Data for aggregation. It can be a dictionary or a string.'}  \n",
       "1  {'desc': 'Data for aggregation. It can be a dictionary or a string.'}  \n",
       "2  {'desc': 'Data for aggregation. It can be a dictionary or a string.'}  "
      ]
     },
     "execution_count": 38,
     "metadata": {},
     "output_type": "execute_result"
    }
   ],
   "source": [
    "# Make annotation data\n",
    "annotations_data = [\n",
    "    {\n",
    "        \"text\": f\"This is a test{i}.\", \n",
    "        \"show_ambiguous_button\": True, \n",
    "        \"hidden_data\": {\n",
    "            \"desc\": \"Data for aggregation. It can be a dictionary or a string.\"\n",
    "        }\n",
    "     } for i in range(100)\n",
    "]\n",
    "df_annotation = pd.DataFrame(annotations_data)\n",
    "df_annotation[:3]"
   ]
  },
  {
   "cell_type": "code",
   "execution_count": 39,
   "id": "49d43ee6",
   "metadata": {},
   "outputs": [
    {
     "data": {
      "text/plain": [
       "{'errors': [{'loc': ['body', 'task_id'],\n",
       "   'msg': 'task_id: card-demo-baseline-20200602 は既に存在します.',\n",
       "   'type': 'value_error'}]}"
      ]
     },
     "execution_count": 39,
     "metadata": {},
     "output_type": "execute_result"
    }
   ],
   "source": [
    "# Post task data\n",
    "post_data = {\n",
    "    \"task_id\": \"card-demo-20200602\",\n",
    "    \"annotation_type\": \"card\",\n",
    "    \"title\": \"Card Demo\",\n",
    "    \"question\": \"This is card demo\",\n",
    "    \"description\": \"This is a card demo, so feel free to annotate it as you wish.\",\n",
    "    \"annotations_data\": annotations_data\n",
    "}\n",
    "res = requests.post(f'{host}/tasks', headers=headers, json=post_data).json()\n",
    "res"
   ]
  },
  {
   "cell_type": "markdown",
   "id": "11746d71",
   "metadata": {},
   "source": [
    "## Multi-Label UI\n",
    "\n",
    "- [Task-dependent schema#multilabel](https://github.com/CyberAgent/fast-annotation-tool/wiki/%E3%82%BF%E3%82%B9%E3%82%AF%E4%BE%9D%E5%AD%98%E3%81%AE%E3%82%B9%E3%82%AD%E3%83%BC%E3%83%9E#multilabel)\n",
    "\n",
    "\n",
    "<img src=\"https://user-images.githubusercontent.com/17490886/121502256-f4cd7c80-ca1a-11eb-9429-5ee52c55d949.png\" alt=\"image\" />"
   ]
  },
  {
   "cell_type": "code",
   "execution_count": 40,
   "id": "595875f5",
   "metadata": {},
   "outputs": [
    {
     "data": {
      "text/html": [
       "<div>\n",
       "<style scoped>\n",
       "    .dataframe tbody tr th:only-of-type {\n",
       "        vertical-align: middle;\n",
       "    }\n",
       "\n",
       "    .dataframe tbody tr th {\n",
       "        vertical-align: top;\n",
       "    }\n",
       "\n",
       "    .dataframe thead th {\n",
       "        text-align: right;\n",
       "    }\n",
       "</style>\n",
       "<table border=\"1\" class=\"dataframe\">\n",
       "  <thead>\n",
       "    <tr style=\"text-align: right;\">\n",
       "      <th></th>\n",
       "      <th>text</th>\n",
       "      <th>choices</th>\n",
       "      <th>baseline_text</th>\n",
       "      <th>hidden_data</th>\n",
       "    </tr>\n",
       "  </thead>\n",
       "  <tbody>\n",
       "    <tr>\n",
       "      <th>0</th>\n",
       "      <td>This is a test0.</td>\n",
       "      <td>[ChoiceA, ChoiceB, ChoiceC, ChoiceD]</td>\n",
       "      <td>Baseline Text</td>\n",
       "      <td>{'desc': 'Data for aggregation. It can be a dictionary or a string.'}</td>\n",
       "    </tr>\n",
       "    <tr>\n",
       "      <th>1</th>\n",
       "      <td>This is a test1.</td>\n",
       "      <td>[ChoiceA, ChoiceB, ChoiceC, ChoiceD]</td>\n",
       "      <td>Baseline Text</td>\n",
       "      <td>{'desc': 'Data for aggregation. It can be a dictionary or a string.'}</td>\n",
       "    </tr>\n",
       "    <tr>\n",
       "      <th>2</th>\n",
       "      <td>This is a test2.</td>\n",
       "      <td>[ChoiceA, ChoiceB, ChoiceC, ChoiceD]</td>\n",
       "      <td>Baseline Text</td>\n",
       "      <td>{'desc': 'Data for aggregation. It can be a dictionary or a string.'}</td>\n",
       "    </tr>\n",
       "  </tbody>\n",
       "</table>\n",
       "</div>"
      ],
      "text/plain": [
       "               text                               choices  baseline_text  \\\n",
       "0  This is a test0.  [ChoiceA, ChoiceB, ChoiceC, ChoiceD]  Baseline Text   \n",
       "1  This is a test1.  [ChoiceA, ChoiceB, ChoiceC, ChoiceD]  Baseline Text   \n",
       "2  This is a test2.  [ChoiceA, ChoiceB, ChoiceC, ChoiceD]  Baseline Text   \n",
       "\n",
       "                                                             hidden_data  \n",
       "0  {'desc': 'Data for aggregation. It can be a dictionary or a string.'}  \n",
       "1  {'desc': 'Data for aggregation. It can be a dictionary or a string.'}  \n",
       "2  {'desc': 'Data for aggregation. It can be a dictionary or a string.'}  "
      ]
     },
     "execution_count": 40,
     "metadata": {},
     "output_type": "execute_result"
    }
   ],
   "source": [
    "# Make annotation data\n",
    "annotation_data = [\n",
    "    {\n",
    "        \"text\": f\"This is a test{i}.\",\n",
    "        \"choices\": [\"ChoiceA\", \"ChoiceB\", \"ChoiceC\", \"ChoiceD\"],\n",
    "        \"baseline_text\": \"Baseline Text\",\n",
    "        \"hidden_data\": {\n",
    "            \"desc\": \"Data for aggregation. It can be a dictionary or a string.\"\n",
    "        }\n",
    "    }\n",
    "    for i in range(100)\n",
    "]\n",
    "df_annotation = pd.DataFrame(annotation_data)\n",
    "df_annotation[:3]"
   ]
  },
  {
   "cell_type": "code",
   "execution_count": 36,
   "id": "3d1629c8",
   "metadata": {},
   "outputs": [
    {
     "data": {
      "text/plain": [
       "{'message': 'Success upload.',\n",
       " 'task_id': 'multilabel-demo-20200602',\n",
       " 'annotation_num': 100,\n",
       " 'task_url': 'https://cyberagent-342.web.app/task/multilabel-demo-20200602'}"
      ]
     },
     "execution_count": 36,
     "metadata": {},
     "output_type": "execute_result"
    }
   ],
   "source": [
    "# Post task data\n",
    "post_data = {\n",
    "    \"task_id\": \"multilabel-demo-20200602\",\n",
    "    \"annotation_type\": \"multi_label\",\n",
    "    \"title\": \"Multi-Label Demo\",\n",
    "    \"question\": \"This is multi-label demo\",\n",
    "    \"description\": \"This is a multi-label demo, so feel free to annotate it as you wish.\",\n",
    "    \"annotations_data\": annotation_data\n",
    "}\n",
    "res = requests.post(f'{host}/tasks', headers=headers, json=post_data).json()\n",
    "res"
   ]
  },
  {
   "cell_type": "markdown",
   "id": "3ea3e1f5",
   "metadata": {},
   "source": [
    "# Get annotation results"
   ]
  },
  {
   "cell_type": "code",
   "execution_count": 65,
   "id": "f969d392",
   "metadata": {},
   "outputs": [
    {
     "name": "stdout",
     "output_type": "stream",
     "text": [
      "CPU times: user 4.73 ms, sys: 2.57 ms, total: 7.3 ms\n",
      "Wall time: 1.65 s\n"
     ]
    }
   ],
   "source": [
    "%%time\n",
    "task_id = \"card-demo-20200602\"\n",
    "res = requests.get(f'{host}/tasks/{task_id}', headers=headers).json()"
   ]
  },
  {
   "cell_type": "code",
   "execution_count": 60,
   "id": "1bcb186c",
   "metadata": {},
   "outputs": [
    {
     "data": {
      "text/plain": [
       "{'id': 'card-demo-20200602',\n",
       " 'annotation_type': 'card',\n",
       " 'title': 'Card Demo',\n",
       " 'question': 'This is card demo',\n",
       " 'description': 'This is a card demo, so feel free to annotate it as you wish.',\n",
       " 'created_at': '2021-06-01T13:52:45.882546+00:00',\n",
       " 'updated_at': '2021-06-01T13:52:45.882564+00:00'}"
      ]
     },
     "execution_count": 60,
     "metadata": {},
     "output_type": "execute_result"
    }
   ],
   "source": [
    "# Task Info\n",
    "res['task']"
   ]
  },
  {
   "cell_type": "code",
   "execution_count": 62,
   "id": "bdd3ca4d",
   "metadata": {},
   "outputs": [
    {
     "data": {
      "text/html": [
       "<div>\n",
       "<style scoped>\n",
       "    .dataframe tbody tr th:only-of-type {\n",
       "        vertical-align: middle;\n",
       "    }\n",
       "\n",
       "    .dataframe tbody tr th {\n",
       "        vertical-align: top;\n",
       "    }\n",
       "\n",
       "    .dataframe thead th {\n",
       "        text-align: right;\n",
       "    }\n",
       "</style>\n",
       "<table border=\"1\" class=\"dataframe\">\n",
       "  <thead>\n",
       "    <tr style=\"text-align: right;\">\n",
       "      <th></th>\n",
       "      <th>id</th>\n",
       "      <th>name</th>\n",
       "      <th>email</th>\n",
       "      <th>data</th>\n",
       "      <th>result_data</th>\n",
       "      <th>order_index</th>\n",
       "      <th>user_id</th>\n",
       "      <th>user_task_id</th>\n",
       "      <th>annotation_id</th>\n",
       "      <th>created_at</th>\n",
       "      <th>updated_at</th>\n",
       "    </tr>\n",
       "  </thead>\n",
       "  <tbody>\n",
       "    <tr>\n",
       "      <th>2</th>\n",
       "      <td>0XrLJijwR8YEAlKOzawu</td>\n",
       "      <td>****</td>\n",
       "      <td>****</td>\n",
       "      <td>{'baseline_text': None, 'show_ambiguous_button': True, 'question_overwrite': None, 'text': 'This is a test1.', 'hidden_data': {'desc': 'Data for aggregation. It can be a dictionary or a string.'}, 'yes_button_label': None, 'no_button_label': None}</td>\n",
       "      <td>{'result': 'Yes'}</td>\n",
       "      <td>2</td>\n",
       "      <td>SqZ1hzgybtUI9jK7aSCAJ1g8HlA2</td>\n",
       "      <td>FAiEcGphh1NMawdOHbMn</td>\n",
       "      <td>Szk8f6VNalIctqTZXDrC</td>\n",
       "      <td>2021-06-02T12:18:21.689000+00:00</td>\n",
       "      <td>2021-06-02T12:19:27.263000+00:00</td>\n",
       "    </tr>\n",
       "    <tr>\n",
       "      <th>9</th>\n",
       "      <td>4aeAH2uNO2V4MO7hVyBU</td>\n",
       "      <td>****</td>\n",
       "      <td>****</td>\n",
       "      <td>{'hidden_data': {'desc': 'Data for aggregation. It can be a dictionary or a string.'}, 'text': 'This is a test7.', 'question_overwrite': None, 'show_ambiguous_button': True, 'baseline_text': None, 'no_button_label': None, 'yes_button_label': None}</td>\n",
       "      <td>{'result': 'Yes'}</td>\n",
       "      <td>8</td>\n",
       "      <td>SqZ1hzgybtUI9jK7aSCAJ1g8HlA2</td>\n",
       "      <td>FAiEcGphh1NMawdOHbMn</td>\n",
       "      <td>YRYGUV6SiG1KX2tE1OZo</td>\n",
       "      <td>2021-06-02T12:18:21.689000+00:00</td>\n",
       "      <td>2021-06-02T12:19:33.523000+00:00</td>\n",
       "    </tr>\n",
       "    <tr>\n",
       "      <th>12</th>\n",
       "      <td>5n4uKKb7rpVNNOUsRpjK</td>\n",
       "      <td>****</td>\n",
       "      <td>****</td>\n",
       "      <td>{'no_button_label': None, 'hidden_data': {'desc': 'Data for aggregation. It can be a dictionary or a string.'}, 'question_overwrite': None, 'show_ambiguous_button': True, 'baseline_text': None, 'text': 'This is a test3.', 'yes_button_label': None}</td>\n",
       "      <td>{'result': 'Yes'}</td>\n",
       "      <td>4</td>\n",
       "      <td>SqZ1hzgybtUI9jK7aSCAJ1g8HlA2</td>\n",
       "      <td>FAiEcGphh1NMawdOHbMn</td>\n",
       "      <td>i4g0otOehmF6EBasZtxJ</td>\n",
       "      <td>2021-06-02T12:18:21.689000+00:00</td>\n",
       "      <td>2021-06-02T12:19:30.857000+00:00</td>\n",
       "    </tr>\n",
       "  </tbody>\n",
       "</table>\n",
       "</div>"
      ],
      "text/plain": [
       "                      id  name email  \\\n",
       "2   0XrLJijwR8YEAlKOzawu  ****  ****   \n",
       "9   4aeAH2uNO2V4MO7hVyBU  ****  ****   \n",
       "12  5n4uKKb7rpVNNOUsRpjK  ****  ****   \n",
       "\n",
       "                                                                                                                                                                                                                                                       data  \\\n",
       "2   {'baseline_text': None, 'show_ambiguous_button': True, 'question_overwrite': None, 'text': 'This is a test1.', 'hidden_data': {'desc': 'Data for aggregation. It can be a dictionary or a string.'}, 'yes_button_label': None, 'no_button_label': None}   \n",
       "9   {'hidden_data': {'desc': 'Data for aggregation. It can be a dictionary or a string.'}, 'text': 'This is a test7.', 'question_overwrite': None, 'show_ambiguous_button': True, 'baseline_text': None, 'no_button_label': None, 'yes_button_label': None}   \n",
       "12  {'no_button_label': None, 'hidden_data': {'desc': 'Data for aggregation. It can be a dictionary or a string.'}, 'question_overwrite': None, 'show_ambiguous_button': True, 'baseline_text': None, 'text': 'This is a test3.', 'yes_button_label': None}   \n",
       "\n",
       "          result_data  order_index                       user_id  \\\n",
       "2   {'result': 'Yes'}            2  SqZ1hzgybtUI9jK7aSCAJ1g8HlA2   \n",
       "9   {'result': 'Yes'}            8  SqZ1hzgybtUI9jK7aSCAJ1g8HlA2   \n",
       "12  {'result': 'Yes'}            4  SqZ1hzgybtUI9jK7aSCAJ1g8HlA2   \n",
       "\n",
       "            user_task_id         annotation_id  \\\n",
       "2   FAiEcGphh1NMawdOHbMn  Szk8f6VNalIctqTZXDrC   \n",
       "9   FAiEcGphh1NMawdOHbMn  YRYGUV6SiG1KX2tE1OZo   \n",
       "12  FAiEcGphh1NMawdOHbMn  i4g0otOehmF6EBasZtxJ   \n",
       "\n",
       "                          created_at                        updated_at  \n",
       "2   2021-06-02T12:18:21.689000+00:00  2021-06-02T12:19:27.263000+00:00  \n",
       "9   2021-06-02T12:18:21.689000+00:00  2021-06-02T12:19:33.523000+00:00  \n",
       "12  2021-06-02T12:18:21.689000+00:00  2021-06-02T12:19:30.857000+00:00  "
      ]
     },
     "execution_count": 62,
     "metadata": {},
     "output_type": "execute_result"
    }
   ],
   "source": [
    "# Annotation data and annotator responses\n",
    "df_res =  pd.DataFrame(res['annotations'])\n",
    "df_res['name'] = '****'\n",
    "df_res['email'] = '****'\n",
    "df_res[~df_res.result_data.isna()][:3]"
   ]
  },
  {
   "cell_type": "markdown",
   "id": "21174761",
   "metadata": {},
   "source": [
    "# Get annotation detail log"
   ]
  },
  {
   "cell_type": "code",
   "execution_count": 66,
   "id": "6ec8051d",
   "metadata": {},
   "outputs": [],
   "source": [
    "task_id = \"card-demo-20200602\"\n",
    "res = requests.get(f'{host}/tasks/{task_id}/logs', headers=headers).json()"
   ]
  },
  {
   "cell_type": "code",
   "execution_count": 73,
   "id": "67e7e036",
   "metadata": {},
   "outputs": [
    {
     "data": {
      "text/html": [
       "<div>\n",
       "<style scoped>\n",
       "    .dataframe tbody tr th:only-of-type {\n",
       "        vertical-align: middle;\n",
       "    }\n",
       "\n",
       "    .dataframe tbody tr th {\n",
       "        vertical-align: top;\n",
       "    }\n",
       "\n",
       "    .dataframe thead th {\n",
       "        text-align: right;\n",
       "    }\n",
       "</style>\n",
       "<table border=\"1\" class=\"dataframe\">\n",
       "  <thead>\n",
       "    <tr style=\"text-align: right;\">\n",
       "      <th></th>\n",
       "      <th>id</th>\n",
       "      <th>name</th>\n",
       "      <th>email</th>\n",
       "      <th>data</th>\n",
       "      <th>action_type</th>\n",
       "      <th>action_data</th>\n",
       "      <th>user_task_id</th>\n",
       "      <th>user_annotation_id</th>\n",
       "      <th>created_at</th>\n",
       "    </tr>\n",
       "  </thead>\n",
       "  <tbody>\n",
       "    <tr>\n",
       "      <th>6</th>\n",
       "      <td>FPAgQwLpo7jSK57XmVcY</td>\n",
       "      <td>****</td>\n",
       "      <td>****</td>\n",
       "      <td>None</td>\n",
       "      <td>display</td>\n",
       "      <td>{'deviceInfo': {'view': {'pixelDepth': 30, 'innerWidth': 786, 'availHeight': 875, 'innerHeight': 884, 'colorDepth': 30, 'screenHeight': 900, 'screenWidth': 1440, 'availWidth': 1440}, 'navigator': {'userAgent': 'Mozilla/5.0 (Macintosh; Intel Mac OS X 10_15_7) AppleWebKit/537.36 (KHTML, like Gecko) Chrome/90.0.4430.212 Safari/537.36', 'maxTouchPoints': '0', 'appName': 'Netscape', 'appCodeName': 'Mozilla', 'pointerEnabled': 'undefined', 'platform': 'MacIntel', 'vendor': 'Google Inc.', 'language...</td>\n",
       "      <td>FAiEcGphh1NMawdOHbMn</td>\n",
       "      <td>FeIY6C3yTmsiGTHNqhPw</td>\n",
       "      <td>2021-06-02T12:19:27.938000+00:00</td>\n",
       "    </tr>\n",
       "    <tr>\n",
       "      <th>2</th>\n",
       "      <td>5N1TPclWlmd4LjRMrNuj</td>\n",
       "      <td>****</td>\n",
       "      <td>****</td>\n",
       "      <td>None</td>\n",
       "      <td>display</td>\n",
       "      <td>{'deviceInfo': {'navigator': {'product': 'Gecko', 'vendorSub': '', 'platform': 'MacIntel', 'appCodeName': 'Mozilla', 'pointerEnabled': 'undefined', 'productSub': '20030107', 'maxTouchPoints': '0', 'appName': 'Netscape', 'languages': ['ja', 'en-US', 'en'], 'userAgent': 'Mozilla/5.0 (Macintosh; Intel Mac OS X 10_15_7) AppleWebKit/537.36 (KHTML, like Gecko) Chrome/90.0.4430.212 Safari/537.36', 'vendor': 'Google Inc.', 'appVersion': '5.0 (Macintosh; Intel Mac OS X 10_15_7) AppleWebKit/537.36 (KH...</td>\n",
       "      <td>FAiEcGphh1NMawdOHbMn</td>\n",
       "      <td>5n4uKKb7rpVNNOUsRpjK</td>\n",
       "      <td>2021-06-02T12:19:30.759000+00:00</td>\n",
       "    </tr>\n",
       "    <tr>\n",
       "      <th>16</th>\n",
       "      <td>ptLPPOM5lrlS21zoqOFw</td>\n",
       "      <td>****</td>\n",
       "      <td>****</td>\n",
       "      <td>None</td>\n",
       "      <td>display</td>\n",
       "      <td>{'deviceInfo': {'view': {'pixelDepth': 30, 'availHeight': 875, 'screenWidth': 1440, 'innerWidth': 786, 'innerHeight': 884, 'screenHeight': 900, 'availWidth': 1440, 'colorDepth': 30}, 'location': {'href': 'http://localhost:8080/user_task/FAiEcGphh1NMawdOHbMn/annotation/4aeAH2uNO2V4MO7hVyBU', 'referrer': '', 'domain': 'localhost'}, 'navigator': {'platform': 'MacIntel', 'productSub': '20030107', 'product': 'Gecko', 'vendor': 'Google Inc.', 'appCodeName': 'Mozilla', 'maxTouchPoints': '0', 'userA...</td>\n",
       "      <td>FAiEcGphh1NMawdOHbMn</td>\n",
       "      <td>p4WsKw8O3p2xXBGys3gE</td>\n",
       "      <td>2021-06-02T12:19:32.821000+00:00</td>\n",
       "    </tr>\n",
       "    <tr>\n",
       "      <th>18</th>\n",
       "      <td>vERP165YnmKcIAlEWMps</td>\n",
       "      <td>****</td>\n",
       "      <td>****</td>\n",
       "      <td>None</td>\n",
       "      <td>display</td>\n",
       "      <td>{'deviceInfo': {'view': {'screenWidth': 1440, 'innerHeight': 884, 'screenHeight': 900, 'availWidth': 1440, 'innerWidth': 786, 'colorDepth': 30, 'availHeight': 875, 'pixelDepth': 30}, 'location': {'href': 'http://localhost:8080/user_task/FAiEcGphh1NMawdOHbMn/annotation/p4WsKw8O3p2xXBGys3gE', 'referrer': '', 'domain': 'localhost'}, 'navigator': {'product': 'Gecko', 'languages': ['ja', 'en-US', 'en'], 'platform': 'MacIntel', 'vendor': 'Google Inc.', 'pointerEnabled': 'undefined', 'vendorSub': '...</td>\n",
       "      <td>FAiEcGphh1NMawdOHbMn</td>\n",
       "      <td>EhZ9XIJEC0LMqu5PG5R5</td>\n",
       "      <td>2021-06-02T12:19:32.083000+00:00</td>\n",
       "    </tr>\n",
       "    <tr>\n",
       "      <th>7</th>\n",
       "      <td>H2mIYjHvY7Vp3lPHGDDN</td>\n",
       "      <td>****</td>\n",
       "      <td>****</td>\n",
       "      <td>None</td>\n",
       "      <td>submit</td>\n",
       "      <td>{'deviceInfo': {'view': {'innerWidth': 786, 'availWidth': 1440, 'availHeight': 875, 'innerHeight': 884, 'pixelDepth': 30, 'screenHeight': 900, 'colorDepth': 30, 'screenWidth': 1440}, 'location': {'domain': 'localhost', 'referrer': '', 'href': 'http://localhost:8080/user_task/FAiEcGphh1NMawdOHbMn/annotation/XWegDattSoj4Kvv2AeI6'}, 'navigator': {'pointerEnabled': 'undefined', 'userAgent': 'Mozilla/5.0 (Macintosh; Intel Mac OS X 10_15_7) AppleWebKit/537.36 (KHTML, like Gecko) Chrome/90.0.4430.2...</td>\n",
       "      <td>FAiEcGphh1NMawdOHbMn</td>\n",
       "      <td>XWegDattSoj4Kvv2AeI6</td>\n",
       "      <td>2021-06-02T12:20:47.923000+00:00</td>\n",
       "    </tr>\n",
       "  </tbody>\n",
       "</table>\n",
       "</div>"
      ],
      "text/plain": [
       "                      id  name email  data action_type  \\\n",
       "6   FPAgQwLpo7jSK57XmVcY  ****  ****  None     display   \n",
       "2   5N1TPclWlmd4LjRMrNuj  ****  ****  None     display   \n",
       "16  ptLPPOM5lrlS21zoqOFw  ****  ****  None     display   \n",
       "18  vERP165YnmKcIAlEWMps  ****  ****  None     display   \n",
       "7   H2mIYjHvY7Vp3lPHGDDN  ****  ****  None      submit   \n",
       "\n",
       "                                                                                                                                                                                                                                                                                                                                                                                                                                                                                                            action_data  \\\n",
       "6   {'deviceInfo': {'view': {'pixelDepth': 30, 'innerWidth': 786, 'availHeight': 875, 'innerHeight': 884, 'colorDepth': 30, 'screenHeight': 900, 'screenWidth': 1440, 'availWidth': 1440}, 'navigator': {'userAgent': 'Mozilla/5.0 (Macintosh; Intel Mac OS X 10_15_7) AppleWebKit/537.36 (KHTML, like Gecko) Chrome/90.0.4430.212 Safari/537.36', 'maxTouchPoints': '0', 'appName': 'Netscape', 'appCodeName': 'Mozilla', 'pointerEnabled': 'undefined', 'platform': 'MacIntel', 'vendor': 'Google Inc.', 'language...   \n",
       "2   {'deviceInfo': {'navigator': {'product': 'Gecko', 'vendorSub': '', 'platform': 'MacIntel', 'appCodeName': 'Mozilla', 'pointerEnabled': 'undefined', 'productSub': '20030107', 'maxTouchPoints': '0', 'appName': 'Netscape', 'languages': ['ja', 'en-US', 'en'], 'userAgent': 'Mozilla/5.0 (Macintosh; Intel Mac OS X 10_15_7) AppleWebKit/537.36 (KHTML, like Gecko) Chrome/90.0.4430.212 Safari/537.36', 'vendor': 'Google Inc.', 'appVersion': '5.0 (Macintosh; Intel Mac OS X 10_15_7) AppleWebKit/537.36 (KH...   \n",
       "16  {'deviceInfo': {'view': {'pixelDepth': 30, 'availHeight': 875, 'screenWidth': 1440, 'innerWidth': 786, 'innerHeight': 884, 'screenHeight': 900, 'availWidth': 1440, 'colorDepth': 30}, 'location': {'href': 'http://localhost:8080/user_task/FAiEcGphh1NMawdOHbMn/annotation/4aeAH2uNO2V4MO7hVyBU', 'referrer': '', 'domain': 'localhost'}, 'navigator': {'platform': 'MacIntel', 'productSub': '20030107', 'product': 'Gecko', 'vendor': 'Google Inc.', 'appCodeName': 'Mozilla', 'maxTouchPoints': '0', 'userA...   \n",
       "18  {'deviceInfo': {'view': {'screenWidth': 1440, 'innerHeight': 884, 'screenHeight': 900, 'availWidth': 1440, 'innerWidth': 786, 'colorDepth': 30, 'availHeight': 875, 'pixelDepth': 30}, 'location': {'href': 'http://localhost:8080/user_task/FAiEcGphh1NMawdOHbMn/annotation/p4WsKw8O3p2xXBGys3gE', 'referrer': '', 'domain': 'localhost'}, 'navigator': {'product': 'Gecko', 'languages': ['ja', 'en-US', 'en'], 'platform': 'MacIntel', 'vendor': 'Google Inc.', 'pointerEnabled': 'undefined', 'vendorSub': '...   \n",
       "7   {'deviceInfo': {'view': {'innerWidth': 786, 'availWidth': 1440, 'availHeight': 875, 'innerHeight': 884, 'pixelDepth': 30, 'screenHeight': 900, 'colorDepth': 30, 'screenWidth': 1440}, 'location': {'domain': 'localhost', 'referrer': '', 'href': 'http://localhost:8080/user_task/FAiEcGphh1NMawdOHbMn/annotation/XWegDattSoj4Kvv2AeI6'}, 'navigator': {'pointerEnabled': 'undefined', 'userAgent': 'Mozilla/5.0 (Macintosh; Intel Mac OS X 10_15_7) AppleWebKit/537.36 (KHTML, like Gecko) Chrome/90.0.4430.2...   \n",
       "\n",
       "            user_task_id    user_annotation_id  \\\n",
       "6   FAiEcGphh1NMawdOHbMn  FeIY6C3yTmsiGTHNqhPw   \n",
       "2   FAiEcGphh1NMawdOHbMn  5n4uKKb7rpVNNOUsRpjK   \n",
       "16  FAiEcGphh1NMawdOHbMn  p4WsKw8O3p2xXBGys3gE   \n",
       "18  FAiEcGphh1NMawdOHbMn  EhZ9XIJEC0LMqu5PG5R5   \n",
       "7   FAiEcGphh1NMawdOHbMn  XWegDattSoj4Kvv2AeI6   \n",
       "\n",
       "                          created_at  \n",
       "6   2021-06-02T12:19:27.938000+00:00  \n",
       "2   2021-06-02T12:19:30.759000+00:00  \n",
       "16  2021-06-02T12:19:32.821000+00:00  \n",
       "18  2021-06-02T12:19:32.083000+00:00  \n",
       "7   2021-06-02T12:20:47.923000+00:00  "
      ]
     },
     "execution_count": 73,
     "metadata": {},
     "output_type": "execute_result"
    }
   ],
   "source": [
    "df_res =  pd.DataFrame(res['logs'])\n",
    "df_res['name'] = '****'\n",
    "df_res['email'] = '****'\n",
    "df_res.sample(5)"
   ]
  }
 ],
 "metadata": {
  "kernelspec": {
   "display_name": "Python 3",
   "language": "python",
   "name": "python3"
  },
  "language_info": {
   "codemirror_mode": {
    "name": "ipython",
    "version": 3
   },
   "file_extension": ".py",
   "mimetype": "text/x-python",
   "name": "python",
   "nbconvert_exporter": "python",
   "pygments_lexer": "ipython3",
   "version": "3.7.10"
  }
 },
 "nbformat": 4,
 "nbformat_minor": 5
}
